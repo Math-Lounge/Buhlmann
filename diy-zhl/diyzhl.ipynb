{
 "cells": [
  {
   "cell_type": "markdown",
   "metadata": {},
   "source": [
    "# DIY ZHL"
   ]
  },
  {
   "cell_type": "markdown",
   "metadata": {},
   "source": [
    "## References etc.\n",
    "\n",
    "  * Mark Powell's \"Deco for Divers\" has all the background information in a succinct and easy to read form. The book should be available on interlibrary loan, ask your librarian.\n",
    "  \n",
    "  * Erik Baker's papers: \"Decolessons\", \"Understanding M-values\", \"Clearing up the confusion about Deep Stops\", are more technical and tend to omit much of the background info. PDFs are freely available on-line from several sources.\n",
    "  \n",
    "  * Buhlmann's \"Decompression - Decompression sickness\".\n",
    "  \n",
    "  * Several open-source implementations are out there, most notable Subsurface software, but you have to read C.\n",
    "  \n",
    "  * Plenty of other on-line sources, e.g. Stuart Morrison's \"DIY Decompresion\"\n"
   ]
  },
  {
   "cell_type": "markdown",
   "metadata": {},
   "source": [
    "## Primer\n",
    "\n",
    "### Dissolved gas\n",
    "\n",
    "Gas is driven in and out of tissue by the difference in pressure: \"outside\" aka ambient $ P_{amb} $ &nbsp; and \"inside\" aka dissolved gas pressure, $ P_{t} $. The rate is assumed to be $ ln(2) $\n",
    "\n",
    "**Partial pressure** refers to pressures of individual gases in the breathing mix: oxygen, nitrogen, etc.\n",
    "\n",
    "### Tissue compartments\n",
    "\n",
    "To simulate real tissue the model uses hypothetical \"compartments\". They are defined by the time $ T_{ h } $ it takes for the pressure difference (above) to get to -- since we're using log 2 -- half (or double, depending on whether the tissues in on- or off-gassing) its intial value. That time is callled ``half time``. It is usually given in minutes.\n",
    "\n",
    "The body is modelled as a set of \"tissue compartments\" with different half-times. They have nothing to do with real tissues, but to illustrate the concept it is usually said that blood is \"fast\": gas gets in and out very quickly, whereas bone is very \"slow\".\n",
    "\n",
    "### M-values\n",
    "\n",
    "The greater the difference between $ P_{amb} $ &nbsp; and $ P_t $, the faster the gas flows. There is, however, such thing as too fast. To recreational divers \"too fast\" is only relevant on the way up.\n",
    "\n",
    "The model defines \"maximum allowed pressure difference\" value, ``M-value`` for short. The model does not attempt to quantify the risk, it only works in binary \"above the M-value\" (bad) or \"below the M-value\" (OK) terms.\n",
    "\n",
    "Haldane originally set his M-value as a fixed ratio (2:1). Workman replaced it with a function: a straight line $ M = \\Delta M + M_0 $ with greater overpressure tolerated at greater depths."
   ]
  },
  {
   "cell_type": "markdown",
   "metadata": {},
   "source": [
    "## Water vapour etc. in alveolae\n",
    "\n",
    "Breathing gas in respiratory passages is diluted with water vapour and expelled carbon dioxide. The fraction of water vapour and carbon dioxide is subtracted from the partial pressure of inert gas.\n",
    "\n",
    "$\n",
    "\\begin{align}\n",
    "P_{alv} = ( P_{amb} - P_{H_{2}O} + ( 1 - RQ ) / RQ * P_{CO_{2}} ) Q\n",
    "\\end{align}\n",
    "$\n",
    "\n",
    "where\n",
    "  * $ P_{ CO_2 } $ is pressure of carbon dioxide, 40 mm Hg or 0.0534 bar,\n",
    "  * $ RQ $ is respiratory quotient,\n",
    "  * $ P_{ H_{2}O } $ is pressure of water vapour, 47 mm Hg or 0.0627 bar,\n",
    "  * $ Q $ is the fraction of inert gas,\n",
    "  * $ P_{amb} $ is ambient pressure.\n",
    "\n",
    "$ RQ $ is a ratio of oxygen consumed to carbon dioxide produced in metabolism, it depends on nutrition and exertion and is in the range 0.7..1. Smaller number results in greater calculated gas loading. Buhlmann uses 1 whereas Shreiner uses 0.8 and USN uses 0.9. "
   ]
  },
  {
   "cell_type": "markdown",
   "metadata": {},
   "source": [
    "## Schreiner equation to calculate inert gas pressure in a tissue compartment\n",
    "\n",
    "\n",
    "$\n",
    "\\begin{align}\n",
    "P_{t}(t) = P_{alv0} + R * (t - 1 / k) - (P_{alv0} - P_{t0} - R / k) * e^{-k * t}\n",
    "\\end{align}\n",
    "$\n",
    "\n",
    "*where*\n",
    "\n",
    "  * $ P_{t}(t) $ : partial pressure of inert gas in the tissue (bar) at time $ t $\n",
    "  \n",
    "  * $ P_{alv0} $ : initial alveolar partial pressure of the gas in the breathing mix (bar)\n",
    "  \n",
    "  * $ P_{t0} $ : initial partial pressure of the gas in the tissue (bar) (at time $ t0 $)\n",
    "  \n",
    "  * $ R $ is rate of change in inert gas pressure in the breathing mix, bar/min. This is rate of change in ambient pressure, $ \\Delta P $ times fraction of inert gas. $ \\Delta P $ is negative for ascent, positive for descent, zero for constant depth.\n",
    "\n",
    "  * $ t $ : time of exposure in minutes\n",
    "\n",
    "  * $ k $ : gas decay constant for a tissue compartment: $ k = \\frac  {\\ln(2)} {T_{h}} $\n",
    "\n",
    "    * $ \\quad T_{h} $ : gas \"half-life\" time for tissue compartment in minutes\n",
    "\n",
    "  * $ e $ : 2.7182818284590452353602874713527 and counting\n",
    "\n",
    "Note that for constant depth this reduces to a \"short form\" given in many sources, the code below just uses the full form with $ R = 0 $"
   ]
  },
  {
   "cell_type": "markdown",
   "metadata": {},
   "source": [
    "## M-values\n",
    "\n",
    "### Workman\n",
    "\n",
    "Workman-style M-value $ M $ is defined in terms of $ \\Delta M $ and $ M_{ 0 } $, where\n",
    "\n",
    "  * $ M_{0} $ is the surfacing M-value and\n",
    "  * $ \\Delta M $ is the slope of M-value line: multiply by depth to get tha actual number at that depth.\n",
    "\n",
    "$ M = \\Delta M * Depth + M_{0} $\n",
    "\n",
    "\n",
    "$ Tolerated Depth = ( P - M_{0} ) / \\Delta M $\n",
    "\n",
    "where Depth is measured as pressure from sea level and Tolerated Depth is how high you can ascend without exceeding the M-value.\n",
    "\n",
    "### Buhlmann\n",
    "\n",
    "In Buhlmann model the M-values are expresed in terms of two coeficients: $ a $ and $ b $. In addition, it is using absolute instead od sea-level pressure for diving at altitude, and comes with separate numbers for different inert gases. Buhlmann's model calls \"Tolerated Depth\" an \"ascent ceiling\".\n",
    "\n",
    "### Conversion\n",
    "\n",
    "  * Workman to Buhlmann:\n",
    "  \n",
    "   * $ a = M_{0} - \\Delta M * P_{ \\text{ amb. (surface at sea level) }} $ \n",
    "   \n",
    "   * $ b = 1 / \\Delta M $  \n",
    "\n",
    "  * Buhlmann to Workman:\n",
    "\n",
    "   * $ \\Delta M = 1 / b $\n",
    "   \n",
    "   * $ M_{0} = a + \\frac { P_{ \\text{ amb. (surface at sea level) }}} { b } $\n",
    "   \n",
    "**Note** that this only really works with $ \\Delta M $ greater than 1. See Erik Baker's \"M-values\" for the why.\n",
    "   "
   ]
  },
  {
   "cell_type": "markdown",
   "metadata": {},
   "source": [
    "## No-stop time\n",
    "\n",
    "### by (variant of) Schreiner equation\n",
    "\n",
    "This needs Workman-style M-values:\n",
    "\n",
    "$\n",
    "\\begin{align}\n",
    "P_{no-deco} \\ = ( M_{0} - P_{alv0} - R * (t_{asc} - 1/k) ) * e ^ {k * t_{asc}} \\ + P_{alv0} - R / k\n",
    "\\end{align}\n",
    "$\n",
    "  * $ P_{no-deco} $ &nbsp; is the pressure at which ascent must be started (bar),\n",
    "  * $ M_{0} $ is the surfacing M-value,\n",
    "  * $ P_{alv0} $ is alveolar partial pressure (bar),\n",
    "  * $ t_{asc} $ is the time needed for ascent (minutes): depth divided by speed.\n",
    "  * $ R, k, e $ are the same as in Schreiner's equation above.\n",
    "  \n",
    "You have to figure out how long it'll take to get from the current inspired pressure $ P_{t} $ to $ P_{no-deco} $ &nbsp; : run `schreiner()` in a loop adding a minute of exposure on each iteration until you hit $ P_{no-deco} $ &nbsp; (or do a fancy binary search from, say, 99 minutes down, etc.)"
   ]
  },
  {
   "cell_type": "markdown",
   "metadata": {},
   "source": [
    "### by Buhlmann equation\n",
    "\n",
    "Buhlmann equation calculates Tolerated Depth in absolute pressure and calls it \"safe ascent ceiling\":\n",
    "\n",
    "$\n",
    "\\begin{align}\n",
    "P_{amb.tol.} = ( P_{t} - a ) * b\n",
    "\\end{align}\n",
    "$\n",
    "\n",
    "where\n",
    "  * $ P_{amb.tol.} $ &nbsp; is the ascent ceiling,\n",
    "  * $ P_{t} $ is current inert gas pressure in the tisue, and\n",
    "  * $ a $ and $ b $ are Buhlmann's coefficients.\n",
    "\n",
    "When the calculated $ P_{amb.tol.} $ &nbsp; is above 1, i.e. under the water surface (assuming surface pressure is 1 bar of course), that means we have a deco ceiling and must stop and off-gas there.\n",
    "\n",
    "Buhlmann equation modified by Erik Baker's Gradient Factors is\n",
    "\n",
    "$\n",
    "\\begin{align}\n",
    "P_{amb.tol.} = ( P_{t} - a * GF ) / ( GF / b + 1.0 - GF )\n",
    "\\end{align}\n",
    "$\n",
    "\n",
    "where $ GF $ is the \"current\" gradient factor. \n",
    "\n",
    "(Without the gradient factor: $ GF = 1 $, that reduces to $ ( P_{t} - a * 1 ) / ( 1/b + 1 - 1 ) => ( P_{t} - a ) / ( 1/b ) =>  ( P_{t} - a ) * b $: Buhlmann's original.)\n",
    "\n",
    "Gradient Factors plural are a pair of numbers: $ GFLo $ that applies at first decompression stop and $ GFHi $ that applies at the last stop: the surface. The \"current\" $ GF $ at any given depth between those two points is calculated from a simple proportion. **Note** that this only works when you have a relatively deep decompression stop.\n",
    "\n",
    "### You can calculate no-stop time\n",
    "by running `shreiner()` and `buhlmann()` in a loop, adding a minute of exposure at each iteration, until the latter produces a ceiling. **Note** however, that neither this method nor the equation above factor in off-gassing that will take place during ascent."
   ]
  },
  {
   "cell_type": "markdown",
   "metadata": {},
   "source": [
    "### Helium\n",
    "\n",
    "With multiple inert gases, each has to be tracked separately by Schreiner equation.\n",
    "\n",
    "For Buhlmann's formula you add up the partial pressures and proportionally adjust the $ a $ and $ b $:\n",
    "\n",
    "$ P_{t} = P_{iN_2} + P_{iHe} $\n",
    "\n",
    "$ a = (a_{N_2} * P_{N_2} + a_{He} * P_{He}) / P_{t} $\n",
    "\n",
    "$ b = (b_{N_2} * P_{N_2} + b_{He} * P_{He}) / P_{t} $\n",
    "\n"
   ]
  },
  {
   "cell_type": "markdown",
   "metadata": {},
   "source": [
    "## Decompression stop\n",
    "\n",
    "... is ascent ceiling rounded to next 3 metres down.\n",
    "\n",
    "The best I could find, in Buhlmann's \"Decompression\", is in open water it's hard to maintain stops at smaller intervals. Buhlmann suggests using smaller intervals or even \"ride the M-value line\" continuously for in-chamber decompression there. (**Note** this assumes no gas switching.)\n",
    "\n",
    "Once you're at deco stop, run `schreiner()` and `buhlmann()` in a loop adding a minute on each iteration, as usual, until your next ceiling is at your next stop: 3 metres above you current depth if using the 3 m spacing."
   ]
  },
  {
   "cell_type": "markdown",
   "metadata": {},
   "source": [
    "## Tissue compartments\n",
    "\n",
    "Tables are coded as python dicts: keys for each compartment are ``t``, ``a``, and ``b`` for half-time and the coefficients resp. E.g. ZH-L12's $ b $ coefficient for nitrogen in TC 3 is ``ZHL12N[3][\"b\"]``\n"
   ]
  },
  {
   "cell_type": "markdown",
   "metadata": {},
   "source": [
    "### ZH-L16\n",
    "\n",
    "**Note** that you have two options for the 1st (fastest) tissue compartment: 4 minutes or 5. Pick one. The 5-minute TC is usually called \"1b\" and is keyed as \"1.1\" in the table below.\n",
    "\n",
    "The ''a'' key in the nitrogen tables is a dict itself with three sub-keys: ''A'', ''B'', adn ''C'' for the three versions of ZH-L16 resp. Helium numbers seem to be unobtainable for ''A'' or ''C'', nor for the 4-minute tissue compartment. I.e. if you want to use this for trimix, ZH-L16B with 5-minute TC is your only option.\n",
    "\n",
    "M-values for \"-A\" were calculated as\n",
    "\n",
    "$\n",
    "\\begin{align}\n",
    "a = 2 * T_{h} ^ {- \\frac{1}{3}}\n",
    "\\end{align}\n",
    "$\n",
    "\n",
    "$\n",
    "\\begin{align}\n",
    "b = 1.005 - T_{h} ^ {- \\frac{1}{2}}\n",
    "\\end{align}\n",
    "$\n",
    "\n",
    "\n",
    "  * $ T_{h} $ is tissue compartment half-time\n"
   ]
  },
  {
   "cell_type": "markdown",
   "metadata": {},
   "source": [
    "### Workman\n",
    "\n",
    "Not useful as is, would need to be recalculated for $ \\Delta M $ instead of $ M $ first, then converted to Buhlmann's `a` and `b` coefficients."
   ]
  },
  {
   "cell_type": "markdown",
   "metadata": {},
   "source": [
    "### DSAT\n",
    "\n",
    "Convert to Buhlmann's `a` and `b` using $ \\Delta M = 1 $"
   ]
  },
  {
   "cell_type": "markdown",
   "metadata": {},
   "source": [
    "# No-Stop Time aka NDL"
   ]
  },
  {
   "cell_type": "markdown",
   "metadata": {},
   "source": [
    "From **Deco for Divers**:\n",
    "\n",
    "\\begin{align}\n",
    "P_{no-stop} = (M_{0} - P_{alv0} - R (t_{asc} - 1/k)) e^{k * t_{asc}} + P_{alv0} - R/k\n",
    "\\end{align}\n",
    "\n",
    "where\n",
    "\n",
    "  * $ M_{0} $ : M-value at sea level (bar)\n",
    "  * $ t_{asc} $ : time needed for ascent, depth/speed (min)\n",
    "  * $ P_{no_stop} $ : partial pressure at which to start the ascent (bar)\n",
    "  * $ P_{alv0} $ : alveolar partial pressure\n",
    "  * $ d $ : depth (m)\n",
    "  * $ k $ : ln(2)/tissue half-time\n",
    "  * $ R $ : is the rate of change in inert gas paressure, $ \\Delta P $ times fraction of inert gas (bar/min)\n",
    "\n",
    "This gives no-stop pressure $ P_{no-stop} $ at a given depth (through $ P_{alv0} $) but not the time $ t $ when you're going to reach it.\n",
    "\n",
    "From Baker's **No-Stop Time**:\n",
    "\n",
    "\\begin{align}\n",
    "t = (-1/k) * ln( (P_{alv0} - M_{0})/(P_{alv0} - P_{tc}) )\n",
    "\\end{align}\n",
    "\n",
    "-- as above but also accounts for\n",
    "\n",
    "  * $ P_{tc} $ : current dissolved gas pressure in tissue compartment\n",
    "  \n",
    "The problem with Baker's version is it has to avoid division by zero and a logarithm of negative number, or of number greater than 1. So it only works **iff** $ P_{alv0} > M_{0} > P_{tc} $ \n",
    "\n",
    "**So** you have to exclude tissue compartments whose $ M_{0} $ is less than current $ P_{alv0} $"
   ]
  },
  {
   "cell_type": "markdown",
   "metadata": {},
   "source": [
    "## Code\n",
    "\n",
    "Run the cell below to load python code (assuming you have the `diyzhl.py` in the same directory as the notebook file).\n",
    "\n",
    "The functions are written to closely follow the above formulae. That includes calculating constants on the fly, like e.g. $ K $ or $ P_{alv} $ &nbsp; -- you'd normally use pre-calculated numbers for your chosen parameters.\n",
    "\n",
    "About the only added features are \n",
    " * some of them save intermediate results in variables: mainly because I wanted to play with rounding at different steps. Note that although I round the numbers to 4 decimal digits, they're probably only meaningful to 2 at best.\n",
    " \n",
    " * Typecasts to `float` are there so that passing in not-a-number will throw an exception early.      \n",
    " \n",
    " * Similarly, `asserts` are used to catch division by zero early."
   ]
  }
 ],
 "metadata": {
  "kernelspec": {
   "display_name": "Python 3 (ipykernel)",
   "language": "python",
   "name": "python3"
  },
  "language_info": {
   "codemirror_mode": {
    "name": "ipython",
    "version": 3
   },
   "file_extension": ".py",
   "mimetype": "text/x-python",
   "name": "python",
   "nbconvert_exporter": "python",
   "pygments_lexer": "ipython3",
   "version": "3.11.0"
  }
 },
 "nbformat": 4,
 "nbformat_minor": 4
}
