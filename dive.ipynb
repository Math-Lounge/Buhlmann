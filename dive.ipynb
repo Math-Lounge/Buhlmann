{
 "cells": [
  {
   "cell_type": "markdown",
   "metadata": {},
   "source": [
    "# Dive\n",
    "\n",
    "wrapped in a python class"
   ]
  },
  {
   "cell_type": "markdown",
   "metadata": {},
   "source": [
    "## Implementation\n",
    "\n",
    " - Dive profile is usually shown as a series of depth and time, in `MM:SS` format, points.\n",
    "   - Need to convert the latter into decimal minutes,\n",
    "   - and convert it to time and current depth.\n",
    "\n",
    " - constructor: initialize the model to ZH-L16C w/ 5-minute compartment,\n",
    "   - diving air,\n",
    "   - at sea level,\n",
    "   - using $ RQ = 0.9 $\n",
    "   - and fixed gradient factor 0.85\n",
    " \n",
    " - `segment()` takes the new depth and time and updates gas loadings.\n",
    " \n",
    " This also keeps track of the ceiling together with $ P_t $\n"
   ]
  },
  {
   "cell_type": "code",
   "execution_count": 1,
   "metadata": {},
   "outputs": [],
   "source": []
  },
  {
   "cell_type": "markdown",
   "metadata": {},
   "source": [
    "## Animate\n",
    "\n",
    "The profile is from a real dive, simplified. \n",
    "\n",
    "(TODO: change bar colour when TC has a ceiling)"
   ]
  },
  {
   "cell_type": "code",
   "execution_count": 12,
   "metadata": {},
   "outputs": [
    {
     "data": {
      "image/png": "[encoded data removed]",
      "text/plain": [
       "<Figure size 640x480 with 1 Axes>"
      ]
     },
     "metadata": {},
     "output_type": "display_data"
    },
    {
     "name": "stderr",
     "output_type": "stream",
     "text": [
      "C:\\Users\\Akshay\\AppData\\Local\\Temp\\ipykernel_51820\\4196307640.py:11: UserWarning: FixedFormatter should only be used together with FixedLocator\n",
      "  axes.set_xticklabels(d.compartments, rotation = 45)\n"
     ]
    }
   ],
   "source": [
    "%matplotlib widget\n",
    "\n",
    "import matplotlib.pyplot as plt\n",
    "import numpy as np\n",
    "import time\n",
    "\n",
    "d = dive( verbose = False )\n",
    "idx = np.arange( len( d.compartments ) )\n",
    "fig, axes = plt.subplots(1,1)\n",
    "hfig = display(fig, display_id=True)\n",
    "axes.set_xticklabels(d.compartments, rotation = 45)\n",
    "#axes.xticks( idx, d.compartments, rotation = 30 )\n",
    "       \n",
    "\n",
    "PROFILE = [(24,\"1:40\"),(30,\"6:10\"),(29,\"10:20\"),(23,\"16:20\"),(15,\"21:30\"),(10,\"25:30\"),(3,\"40:0\")]\n",
    "\n",
    "for i in PROFILE :\n",
    "    axes.clear()\n",
    "    d.segment( newdepth = i[0], newtimestr = i[1] )\n",
    "    axes.set_ylim( 0, 3.0 )\n",
    "    axes.bar( idx, d.loadings )\n",
    "    # display.display( axes.gcf() )\n",
    "    fig.canvas.draw()\n",
    "    fig.canvas.flush_events()\n",
    "    hfig.update(fig)\n",
    "    time.sleep( 1 )\n",
    "\n",
    "plt.close (fig)"
   ]
  }
 ],
 "metadata": {
  "kernelspec": {
   "display_name": "Python 3 (ipykernel)",
   "language": "python",
   "name": "python3"
  },
  "language_info": {
   "codemirror_mode": {
    "name": "ipython",
    "version": 3
   },
   "file_extension": ".py",
   "mimetype": "text/x-python",
   "name": "python",
   "nbconvert_exporter": "python",
   "pygments_lexer": "ipython3",
   "version": "3.11.0"
  }
 },
 "nbformat": 4,
 "nbformat_minor": 4
}
